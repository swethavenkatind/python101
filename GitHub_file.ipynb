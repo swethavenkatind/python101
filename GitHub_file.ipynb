{
 "cells": [
  {
   "cell_type": "code",
   "execution_count": 6,
   "id": "1417a838-ab33-4a24-bb4e-2d60074e8a97",
   "metadata": {},
   "outputs": [
    {
     "name": "stdout",
     "output_type": "stream",
     "text": [
      "[2, 26, 8, 10, 126, 200]\n"
     ]
    }
   ],
   "source": [
    "new_numbers = [n * 2 for n in numbers]\n",
    "print(new_numbers)"
   ]
  },
  {
   "cell_type": "code",
   "execution_count": 8,
   "id": "26026652-a759-4b5b-812f-4fe4bd2d5a24",
   "metadata": {},
   "outputs": [
    {
     "name": "stdout",
     "output_type": "stream",
     "text": [
      "0 1 2 3 4 1 2 3 4 5 "
     ]
    }
   ],
   "source": [
    "for i in range(2):\n",
    "    for j in range(5):\n",
    "        print(i +j, end = \" \" )"
   ]
  },
  {
   "cell_type": "code",
   "execution_count": 10,
   "id": "5e561628-e60b-4224-8dcd-4aded853dd27",
   "metadata": {},
   "outputs": [
    {
     "data": {
      "text/plain": [
       "[0, 1, 2, 3, 4, 1, 2, 3, 4, 5]"
      ]
     },
     "execution_count": 10,
     "metadata": {},
     "output_type": "execute_result"
    }
   ],
   "source": [
    "new_list_comprehension_1 = [i + j for i in range(2) for j in range(5)]\n",
    "new_list_comprehension_1"
   ]
  },
  {
   "cell_type": "code",
   "execution_count": 12,
   "id": "69ed293c-7696-47b1-980b-c1244d90baef",
   "metadata": {},
   "outputs": [
    {
     "data": {
      "text/plain": [
       "list"
      ]
     },
     "execution_count": 12,
     "metadata": {},
     "output_type": "execute_result"
    }
   ],
   "source": [
    "type(new_list_comprehension_1)"
   ]
  },
  {
   "cell_type": "code",
   "execution_count": 14,
   "id": "9007084c-d479-4607-8ca5-6ace4a3729f5",
   "metadata": {},
   "outputs": [
    {
     "name": "stdout",
     "output_type": "stream",
     "text": [
      "[0, 1, 2, 3, 4, 1, 2, 3, 4, 5]\n"
     ]
    }
   ],
   "source": [
    "print(new_list_comprehension_1)"
   ]
  },
  {
   "cell_type": "code",
   "execution_count": 16,
   "id": "01908000-ac0e-458c-9ee4-3ff014f8f1a7",
   "metadata": {},
   "outputs": [
    {
     "data": {
      "text/plain": [
       "[[0, 1], [1, 2], [2, 3], [3, 4], [4, 5]]"
      ]
     },
     "execution_count": 16,
     "metadata": {},
     "output_type": "execute_result"
    }
   ],
   "source": [
    "new_list_comprehension_2 = [[i +j for i in range(2)] for j in range(5)]\n",
    "new_list_comprehension_2"
   ]
  },
  {
   "cell_type": "code",
   "execution_count": 18,
   "id": "c49894db-da22-4326-9838-bc20a3713dee",
   "metadata": {},
   "outputs": [
    {
     "data": {
      "text/plain": [
       "list"
      ]
     },
     "execution_count": 18,
     "metadata": {},
     "output_type": "execute_result"
    }
   ],
   "source": [
    "type(new_list_comprehension_2)"
   ]
  },
  {
   "cell_type": "code",
   "execution_count": 20,
   "id": "b69dc9d5-a938-4a63-8882-fd44525c4d3b",
   "metadata": {},
   "outputs": [
    {
     "name": "stdout",
     "output_type": "stream",
     "text": [
      "[[0, 1], [1, 2], [2, 3], [3, 4], [4, 5]]\n"
     ]
    }
   ],
   "source": [
    "print(new_list_comprehension_2)"
   ]
  },
  {
   "cell_type": "code",
   "execution_count": 22,
   "id": "b1ac2a44-0795-4da0-9125-4a02cc62f8cd",
   "metadata": {},
   "outputs": [
    {
     "data": {
      "text/plain": [
       "int"
      ]
     },
     "execution_count": 22,
     "metadata": {},
     "output_type": "execute_result"
    }
   ],
   "source": [
    "type(new_list_comprehension_1[1])"
   ]
  },
  {
   "cell_type": "code",
   "execution_count": 24,
   "id": "7fc1a8c9-8d80-4e0b-b2d9-f006dcb32025",
   "metadata": {},
   "outputs": [
    {
     "data": {
      "text/plain": [
       "list"
      ]
     },
     "execution_count": 24,
     "metadata": {},
     "output_type": "execute_result"
    }
   ],
   "source": [
    "type(new_list_comprehension_2[1])"
   ]
  },
  {
   "cell_type": "code",
   "execution_count": 26,
   "id": "9c4843f1-1a27-4fee-917a-60d052206c12",
   "metadata": {},
   "outputs": [
    {
     "data": {
      "text/plain": [
       "[1, 2, 3, 4, 5, 6, 7, 8, 9, 10]"
      ]
     },
     "execution_count": 26,
     "metadata": {},
     "output_type": "execute_result"
    }
   ],
   "source": [
    "list(range(1, 11))"
   ]
  },
  {
   "cell_type": "code",
   "execution_count": 28,
   "id": "d0263c6d-c6c9-460a-a7ef-95eb2fa0edbe",
   "metadata": {},
   "outputs": [
    {
     "data": {
      "text/plain": [
       "[1, 27, 125, 343, 729]"
      ]
     },
     "execution_count": 28,
     "metadata": {},
     "output_type": "execute_result"
    }
   ],
   "source": [
    "[pow(num, 3) for num in range(1, 11) if num % 2 != 0 ]"
   ]
  },
  {
   "cell_type": "code",
   "execution_count": 32,
   "id": "ea79e4a4-096e-4b84-a301-fb8af14f2da5",
   "metadata": {},
   "outputs": [
    {
     "name": "stdout",
     "output_type": "stream",
     "text": [
      "1 27 125 343 729 "
     ]
    }
   ],
   "source": [
    "for i in range(1, 11):\n",
    "    if i % 2 != 0:\n",
    "        print(pow(i, 3), end = \" \")\n",
    "        \n"
   ]
  },
  {
   "cell_type": "code",
   "execution_count": 38,
   "id": "d97a4b7e-78ad-46d2-8469-0ecbf7ad349e",
   "metadata": {},
   "outputs": [
    {
     "ename": "SyntaxError",
     "evalue": "expected 'else' after 'if' expression (1722273122.py, line 1)",
     "output_type": "error",
     "traceback": [
      "\u001b[0;36m  Cell \u001b[0;32mIn[38], line 1\u001b[0;36m\u001b[0m\n\u001b[0;31m    [pow(num, 3) if num % 2 != 0 for num in range in (1, 11)]\u001b[0m\n\u001b[0m     ^\u001b[0m\n\u001b[0;31mSyntaxError\u001b[0m\u001b[0;31m:\u001b[0m expected 'else' after 'if' expression\n"
     ]
    }
   ],
   "source": [
    "[pow(num, 3) if num % 2 != 0 for num in range in (1, 11)]"
   ]
  },
  {
   "cell_type": "code",
   "execution_count": 44,
   "id": "e6987e2f-0be0-459e-a297-f2a7163a440b",
   "metadata": {},
   "outputs": [
    {
     "data": {
      "text/plain": [
       "[1, 'even', 27, 'even', 125, 'even', 343, 'even', 729, 'even']"
      ]
     },
     "execution_count": 44,
     "metadata": {},
     "output_type": "execute_result"
    }
   ],
   "source": [
    "[num ** 3 if num % 2 != 0 else \"even\" for num in range(1, 11)]"
   ]
  },
  {
   "cell_type": "code",
   "execution_count": 46,
   "id": "81974ca6-ce31-4041-bac7-eecb4f81b9df",
   "metadata": {},
   "outputs": [
    {
     "name": "stdout",
     "output_type": "stream",
     "text": [
      "['Chair_Type_1', 100000]\n",
      "['Chair_Type_1', 150000]\n",
      "['Chair_Type_1', 130000]\n",
      "['Chair_Type_1', 120000]\n",
      "['Chair_Type_1', 180000]\n",
      "['Chair_Type_1', 156000]\n",
      "['Chair_Type_1', 135000]\n",
      "['Chair_Type_1', 202500]\n",
      "['Chair_Type_1', 175500]\n",
      "['Chair_Type_1', 150000]\n",
      "['Chair_Type_1', 225000]\n",
      "['Chair_Type_1', 195000]\n",
      "['Chair_Type_2', 100000]\n",
      "['Chair_Type_2', 150000]\n",
      "['Chair_Type_2', 130000]\n",
      "['Chair_Type_2', 120000]\n",
      "['Chair_Type_2', 180000]\n",
      "['Chair_Type_2', 156000]\n",
      "['Chair_Type_2', 135000]\n",
      "['Chair_Type_2', 202500]\n",
      "['Chair_Type_2', 175500]\n",
      "['Chair_Type_2', 150000]\n",
      "['Chair_Type_2', 225000]\n",
      "['Chair_Type_2', 195000]\n",
      "['Chair_Type_3', 100000]\n",
      "['Chair_Type_3', 150000]\n",
      "['Chair_Type_3', 130000]\n",
      "['Chair_Type_3', 120000]\n",
      "['Chair_Type_3', 180000]\n",
      "['Chair_Type_3', 156000]\n",
      "['Chair_Type_3', 135000]\n",
      "['Chair_Type_3', 202500]\n",
      "['Chair_Type_3', 175500]\n",
      "['Chair_Type_3', 150000]\n",
      "['Chair_Type_3', 225000]\n",
      "['Chair_Type_3', 195000]\n",
      "['Chair_Type_4', 100000]\n",
      "['Chair_Type_4', 150000]\n",
      "['Chair_Type_4', 130000]\n",
      "['Chair_Type_4', 120000]\n",
      "['Chair_Type_4', 180000]\n",
      "['Chair_Type_4', 156000]\n",
      "['Chair_Type_4', 135000]\n",
      "['Chair_Type_4', 202500]\n",
      "['Chair_Type_4', 175500]\n",
      "['Chair_Type_4', 150000]\n",
      "['Chair_Type_4', 225000]\n",
      "['Chair_Type_4', 195000]\n"
     ]
    }
   ],
   "source": [
    "products_on_sale = ['Chair_Type_1', 'Chair_Type_2', 'Chair_Type_3', 'Chair_Type_4']\n",
    "sale_prices = [100, 120, 135, 150]\n",
    "quantities = [1000, 1500, 1300]\n",
    "for chair_type in products_on_sale:\n",
    "     for price in sale_prices:\n",
    "         for quantity in quantities:\n",
    "             print ([chair_type, price*quantity])"
   ]
  },
  {
   "cell_type": "code",
   "execution_count": 48,
   "id": "06c097cb-378b-49bd-860f-b7844354bbbf",
   "metadata": {},
   "outputs": [
    {
     "data": {
      "text/plain": [
       "[1, 2, 3, 4, 5, 6, 7, 8, 9, 10]"
      ]
     },
     "execution_count": 48,
     "metadata": {},
     "output_type": "execute_result"
    }
   ],
   "source": [
    "list(range(1, 11))"
   ]
  },
  {
   "cell_type": "code",
   "execution_count": 52,
   "id": "ff4ee09b-369c-4230-b053-cede8bb6f432",
   "metadata": {},
   "outputs": [
    {
     "data": {
      "text/plain": [
       "[20, 40, 60, 80, 100]"
      ]
     },
     "execution_count": 52,
     "metadata": {},
     "output_type": "execute_result"
    }
   ],
   "source": [
    "[num * 10 for num in list(range(1, 11)) if num % 2 == 0]"
   ]
  },
  {
   "cell_type": "code",
   "execution_count": 58,
   "id": "adad572a-eb56-48c6-ace2-1ede3d13154b",
   "metadata": {},
   "outputs": [
    {
     "name": "stdout",
     "output_type": "stream",
     "text": [
      "20 40 60 80 100 "
     ]
    }
   ],
   "source": [
    "for num in list(range(1, 11)):\n",
    "    if num % 2 == 0 :\n",
    "        print(num * 10, end = \" \")\n",
    "        "
   ]
  },
  {
   "cell_type": "code",
   "execution_count": null,
   "id": "8741eafb-e2b1-4451-90c7-23d836e2702b",
   "metadata": {},
   "outputs": [],
   "source": []
  }
 ],
 "metadata": {
  "kernelspec": {
   "display_name": "Python [conda env:base] *",
   "language": "python",
   "name": "conda-base-py"
  },
  "language_info": {
   "codemirror_mode": {
    "name": "ipython",
    "version": 3
   },
   "file_extension": ".py",
   "mimetype": "text/x-python",
   "name": "python",
   "nbconvert_exporter": "python",
   "pygments_lexer": "ipython3",
   "version": "3.12.7"
  }
 },
 "nbformat": 4,
 "nbformat_minor": 5
}
